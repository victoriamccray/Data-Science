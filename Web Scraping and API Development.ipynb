{
 "cells": [
  {
   "cell_type": "markdown",
   "metadata": {},
   "source": [
    "## Overview: \"Good\" songs\n",
    "\n",
    "You will start **(but not complete)** a comparison of \"good\" songs as determined by two websites.\n",
    " - The [best music](https://pitchfork.com/reviews/best/tracks/) according to [Pitchfork](https://pitchfork.com/)\n",
    "     - new (mostly independent) music\n",
    " - The [best music](https://www.billboard.com/articles/news/list/9494940/best-songs-2020-top-100/) according to [Billboard](billboard.com)\n",
    "     - \"good\" defined based on record sales    \n",
    "    \n",
    "The analysis pipeline will\n",
    " - scrape top songs from pitchfork\n",
    " - scrape top songs from billboard\n",
    " - query the Spotify API to get popularity rankings on each song\n",
    " - produce the histogram shown below\n",
    "\n",
    "<img src=\"https://i.ibb.co/0Z8VPQV/Screenshot-from-2021-02-25-15-02-18.png\" alt=\"Drawing\" style=\"width: 400px;\"/>\n"
   ]
  },
  {
   "cell_type": "markdown",
   "metadata": {},
   "source": [
    "## Part 1: Program design (28 points)\n",
    "The task above may be completed by running the following script.  Note that `clean_pitchfork()` and `clean_billboard()` both return dataframes with columns `track` and `artist`.\n",
    "\n",
    "```python\n",
    "url_pitchfork = 'https://pitchfork.com/reviews/best/tracks/'\n",
    "url_billboard = 'https://www.billboard.com/articles/news/list/9494940/best-songs-2020-top-100/'\n",
    "spot_api_key = '<spotify-key-here>'\n",
    "\n",
    "# get html of each set of songs\n",
    "html_str_pitchfork = get_url(url_pitchfork)\n",
    "html_str_billboard = get_url(url_billboard)\n",
    "\n",
    "# web scrape tracks from html of pages\n",
    "df_pitchfork = clean_pitchfork(html_str_pitchfork)\n",
    "df_billboard = clean_billboard(html_str_billboard)\n",
    "\n",
    "# record source of each track\n",
    "df_pitchfork['source'] = 'pitchfork'\n",
    "df_billboard['source'] = 'billboard'\n",
    "\n",
    "# concatenate all tracks\n",
    "df_track = pd.concat((df_pitchfork, df_billboard), axis=0)\n",
    "\n",
    "# query spotify API for popularity of each track\n",
    "df_track = get_popularity(df_track, api_key=spot_api_key)\n",
    "\n",
    "# plot histogram of popularity per source\n",
    "hist_feat(df_track, feat='popularity')\n",
    "```\n",
    "\n",
    "For each of the functions listed in sub-parts below, write a function statement and docstring.  \n",
    "\n",
    "The \"work\" of this problem is being able to clearly define the inputs and outputs as needed so the pipeline produces the desired result.  Be sure to describe the inputs / outputs of each function by writing the function statement / docstring as shown in the example below:\n",
    "\n",
    "```python\n",
    "\n",
    "def some_fnc(input0, input1):\n",
    "    \"\"\" this function does a thing!\n",
    "    \n",
    "    Args:\n",
    "        input0 (type of input0): input0 is a ...\n",
    "        input1 (type of input1): input1 is ...\n",
    "        \n",
    "    Returns:\n",
    "        output0 (type of output0): output0 is ...\n",
    "    \"\"\"\n",
    "    # \"pass\" allow us to end an indentation body without causing\n",
    "    # any errors when from the python interpreter\n",
    "    pass\n",
    "```\n",
    "\n",
    "### Part 1.1: `get_url()`"
   ]
  },
  {
   "cell_type": "code",
   "execution_count": 144,
   "metadata": {},
   "outputs": [],
   "source": [
    "def get_url(url):\n",
    "    '''\n",
    "    renders text of url page as str\n",
    "    args: https link to webpage (str)\n",
    "    returns: text format of html content (str)\n",
    "    '''\n",
    "    pass"
   ]
  },
  {
   "cell_type": "markdown",
   "metadata": {},
   "source": [
    "### Part 1.2: `clean_pitchfork()`\n",
    "(No need to write a seperate docstring for `clean_billboard()`, as it has the same inputs / outputs as `clean_pitchfork()`. "
   ]
  },
  {
   "cell_type": "code",
   "execution_count": 145,
   "metadata": {},
   "outputs": [],
   "source": [
    "def clean_pitchfork(html_text):\n",
    "    '''\n",
    "    changes raw html text content into pandas dataframe\n",
    "    argrs: html text of song list page (str)\n",
    "    returns: pandas dataframe of track and artist per song\n",
    "    '''\n",
    "    pass"
   ]
  },
  {
   "cell_type": "markdown",
   "metadata": {},
   "source": [
    "### Part 1.3 `get_popularity()`"
   ]
  },
  {
   "cell_type": "raw",
   "metadata": {},
   "source": [
    "REVISIONS:\n",
    "\n",
    "include mention of api_key for args in doc str\n",
    "\n",
    "should return df of songs not list of ints"
   ]
  },
  {
   "cell_type": "code",
   "execution_count": 146,
   "metadata": {},
   "outputs": [],
   "source": [
    "def get_popularity(songs_df, api_key):\n",
    "    '''\n",
    "    finds value of popularity for given songs\n",
    "    args: dataframe of songs, including track title and artist\n",
    "    returns: df_track where each row is a song and popularity is col\n",
    "    '''\n",
    "    pass"
   ]
  },
  {
   "cell_type": "markdown",
   "metadata": {},
   "source": [
    "### Part 1.4: `hist_feat()`"
   ]
  },
  {
   "cell_type": "code",
   "execution_count": 147,
   "metadata": {},
   "outputs": [],
   "source": [
    "def hist_feat(songs_df, feat_lst):\n",
    "    '''\n",
    "    plots histogram of popularity for each song\n",
    "    args: dataframe of songs, list of feature values to plot (ints)\n",
    "    returns: plt histogram of song popularity by website\n",
    "    '''\n",
    "    pass"
   ]
  },
  {
   "cell_type": "markdown",
   "metadata": {},
   "source": [
    "### Part 2: Build `get_url()` (6 points)\n",
    "When you're done, check that it works by outputting to the jupyter notebook the `html_str` associated with input:\n",
    "```python\n",
    "url='https://www.billboard.com/media/lists/best-songs-2020-top-100-9494940/'\n",
    "```\n",
    "\n",
    "Tip: you can click or double click the margin just below `Out[x]` to hide / limit this output ... the full html string can be quite long."
   ]
  },
  {
   "cell_type": "code",
   "execution_count": 5,
   "metadata": {},
   "outputs": [],
   "source": [
    "import requests"
   ]
  },
  {
   "cell_type": "code",
   "execution_count": 6,
   "metadata": {},
   "outputs": [],
   "source": [
    "# even simpler:    return requests.get(url).text"
   ]
  },
  {
   "cell_type": "code",
   "execution_count": 7,
   "metadata": {},
   "outputs": [],
   "source": [
    "def get_url(url):\n",
    "    '''\n",
    "    renders text of url page as str\n",
    "    args: https link to webpage (str)\n",
    "    returns: text format of html content (str)\n",
    "    '''\n",
    "    \n",
    "    html_resp = requests.get(url)\n",
    "    html_text = html_resp.text\n",
    "\n",
    "    return html_text"
   ]
  },
  {
   "cell_type": "code",
   "execution_count": 8,
   "metadata": {
    "scrolled": true
   },
   "outputs": [],
   "source": [
    "url='https://www.billboard.com/media/lists/best-songs-2020-top-100-9494940/'\n",
    "get_url(url);"
   ]
  },
  {
   "cell_type": "markdown",
   "metadata": {},
   "source": [
    "<!-- extracts song info from a list of top songs using webscraping -->"
   ]
  },
  {
   "cell_type": "markdown",
   "metadata": {},
   "source": [
    "### Part 3:  Build `clean_pitchfork()`  (28 points)\n",
    "\n",
    "Build `clean_pitchfork()`\n",
    "\n",
    "- You may skip the initial track \"Porridge Radio\"\n",
    "- Be sure to remove the double quotes: `“` `”` from the track names.  Note these are not the typical <shift + comma> character, copy and paste them from above to ensure you get the proper string match.\n",
    "\n",
    "When you're done, check that it works by outputting to the jupyter notebook the first few rows of a DataFrame of Pitchfork songs:\n",
    "```python\n",
    "url = 'https://pitchfork.com/reviews/best/tracks/?page=1'\n",
    "html_str = get_url(url)\n",
    "df_pitch = clean_pitchfork(html_str)\n",
    "df_pitch.head()\n",
    "```\n",
    "\n",
    "which should show (as of Feb 22 @ 1PM):\n",
    "\n",
    "| artist |           track |                                     source |           |\n",
    "|-------:|----------------:|-------------------------------------------:|-----------|\n",
    "|      0 |           yeule |                           Bites on My Neck | pitchfork |\n",
    "|      1 |       Two Shell |                                       home | pitchfork |\n",
    "|      2 |   Nilüfer Yanya |                               Midnight Sun | pitchfork |\n",
    "|      3 |        Soul Glo | Jump!! (Or Get Jumped!!!)((By the Future)) | pitchfork |\n",
    "|      4 | Earl Sweatshirt |                                       2010 | pitchfork |"
   ]
  },
  {
   "cell_type": "raw",
   "metadata": {},
   "source": [
    "REVISIONS:\n",
    "\n",
    "loop through track-collection-item class instead of track-list by song\n",
    "\n",
    "\n",
    "replace special quotes twice\n",
    "\n",
    "create a dict first with track, artist, and source then apppend to the df"
   ]
  },
  {
   "cell_type": "code",
   "execution_count": 9,
   "metadata": {},
   "outputs": [],
   "source": [
    "from bs4 import BeautifulSoup\n",
    "import pandas as pd"
   ]
  },
  {
   "cell_type": "code",
   "execution_count": 24,
   "metadata": {},
   "outputs": [],
   "source": [
    "def clean_pitchfork(html_text):\n",
    "    '''\n",
    "    changes raw html text content into pandas dataframe\n",
    "    argrs: html text of song list page (str)\n",
    "    returns: pandas dataframe of track and artist per song\n",
    "    '''\n",
    "    \n",
    "    # build soup object from text\n",
    "    soup = BeautifulSoup(html_text)\n",
    "    \n",
    "    song_df = pd.DataFrame()\n",
    "    \n",
    "    \n",
    "    for song in soup.find_all(class_='track-collection-item'):\n",
    "        \n",
    "        # extract artist\n",
    "        artist = song.find_all('ul', class_='artist-list')[0].text\n",
    "        #extract track\n",
    "        track = song.find_all('h2', class_='track-collection-item__title')[0].text\n",
    "        # discard all directional double quotes\n",
    "        track = track.replace('“', '')\n",
    "        track = track.replace('”', '')\n",
    "        \n",
    "        # collect song data in dataframe\n",
    "        song_dict = {'artist': artist, \n",
    "                     'track': track,\n",
    "                     'source': 'pitchfork'}\n",
    "        \n",
    "        song_df = song_df.append(song_dict, ignore_index=True)\n",
    "        \n",
    "        # extract song name by class\n",
    "        #song_name = song.find_all('h2', class_='track-collection-item__title')[0].text\n",
    "        #song_name = song.text.split('“”')\n",
    "         \n",
    "        #song_names = song_name\n",
    "        \n",
    "        #song_df['name'] = song_names\n",
    "        #song_df['artist'] = song.find_all(class_='linked display-name display-name--linked')\n",
    "        \n",
    "        \n",
    "        \n",
    "    return song_df\n",
    "    "
   ]
  },
  {
   "cell_type": "code",
   "execution_count": 25,
   "metadata": {
    "scrolled": true
   },
   "outputs": [
    {
     "data": {
      "text/html": [
       "<div>\n",
       "<style scoped>\n",
       "    .dataframe tbody tr th:only-of-type {\n",
       "        vertical-align: middle;\n",
       "    }\n",
       "\n",
       "    .dataframe tbody tr th {\n",
       "        vertical-align: top;\n",
       "    }\n",
       "\n",
       "    .dataframe thead th {\n",
       "        text-align: right;\n",
       "    }\n",
       "</style>\n",
       "<table border=\"1\" class=\"dataframe\">\n",
       "  <thead>\n",
       "    <tr style=\"text-align: right;\">\n",
       "      <th></th>\n",
       "      <th>artist</th>\n",
       "      <th>source</th>\n",
       "      <th>track</th>\n",
       "    </tr>\n",
       "  </thead>\n",
       "  <tbody>\n",
       "    <tr>\n",
       "      <th>0</th>\n",
       "      <td>Floating Points</td>\n",
       "      <td>pitchfork</td>\n",
       "      <td>Vocoder</td>\n",
       "    </tr>\n",
       "    <tr>\n",
       "      <th>1</th>\n",
       "      <td>Charlotte AdigéryBolis Pupul</td>\n",
       "      <td>pitchfork</td>\n",
       "      <td>It Hit Me</td>\n",
       "    </tr>\n",
       "    <tr>\n",
       "      <th>2</th>\n",
       "      <td>Porridge Radio</td>\n",
       "      <td>pitchfork</td>\n",
       "      <td>Back to the Radio</td>\n",
       "    </tr>\n",
       "    <tr>\n",
       "      <th>3</th>\n",
       "      <td>Caroline Polachek</td>\n",
       "      <td>pitchfork</td>\n",
       "      <td>Billions</td>\n",
       "    </tr>\n",
       "    <tr>\n",
       "      <th>4</th>\n",
       "      <td>yeule</td>\n",
       "      <td>pitchfork</td>\n",
       "      <td>Bites on My Neck</td>\n",
       "    </tr>\n",
       "    <tr>\n",
       "      <th>5</th>\n",
       "      <td>Two Shell</td>\n",
       "      <td>pitchfork</td>\n",
       "      <td>home</td>\n",
       "    </tr>\n",
       "    <tr>\n",
       "      <th>6</th>\n",
       "      <td>Nilüfer Yanya</td>\n",
       "      <td>pitchfork</td>\n",
       "      <td>Midnight Sun</td>\n",
       "    </tr>\n",
       "    <tr>\n",
       "      <th>7</th>\n",
       "      <td>Soul Glo</td>\n",
       "      <td>pitchfork</td>\n",
       "      <td>Jump!! (Or Get Jumped!!!)((By the Future))</td>\n",
       "    </tr>\n",
       "    <tr>\n",
       "      <th>8</th>\n",
       "      <td>Earl Sweatshirt</td>\n",
       "      <td>pitchfork</td>\n",
       "      <td>2010</td>\n",
       "    </tr>\n",
       "    <tr>\n",
       "      <th>9</th>\n",
       "      <td>Adele</td>\n",
       "      <td>pitchfork</td>\n",
       "      <td>To Be Loved</td>\n",
       "    </tr>\n",
       "    <tr>\n",
       "      <th>10</th>\n",
       "      <td>Mitski</td>\n",
       "      <td>pitchfork</td>\n",
       "      <td>The Only Heartbreaker</td>\n",
       "    </tr>\n",
       "  </tbody>\n",
       "</table>\n",
       "</div>"
      ],
      "text/plain": [
       "                          artist     source  \\\n",
       "0                Floating Points  pitchfork   \n",
       "1   Charlotte AdigéryBolis Pupul  pitchfork   \n",
       "2                 Porridge Radio  pitchfork   \n",
       "3              Caroline Polachek  pitchfork   \n",
       "4                          yeule  pitchfork   \n",
       "5                      Two Shell  pitchfork   \n",
       "6                  Nilüfer Yanya  pitchfork   \n",
       "7                       Soul Glo  pitchfork   \n",
       "8                Earl Sweatshirt  pitchfork   \n",
       "9                          Adele  pitchfork   \n",
       "10                        Mitski  pitchfork   \n",
       "\n",
       "                                         track  \n",
       "0                                      Vocoder  \n",
       "1                                    It Hit Me  \n",
       "2                            Back to the Radio  \n",
       "3                                     Billions  \n",
       "4                             Bites on My Neck  \n",
       "5                                         home  \n",
       "6                                 Midnight Sun  \n",
       "7   Jump!! (Or Get Jumped!!!)((By the Future))  \n",
       "8                                         2010  \n",
       "9                                  To Be Loved  \n",
       "10                       The Only Heartbreaker  "
      ]
     },
     "execution_count": 25,
     "metadata": {},
     "output_type": "execute_result"
    }
   ],
   "source": [
    "url = 'https://pitchfork.com/reviews/best/tracks/?page=1'\n",
    "html_str = get_url(url)\n",
    "df_pitch = clean_pitchfork(html_str)\n",
    "df_pitch"
   ]
  },
  {
   "cell_type": "markdown",
   "metadata": {},
   "source": [
    "### Part 4 Managing the scrolling on Pitchfork's website (10 points)\n",
    "\n",
    "Notice that as one scrolls to the bottom of the pitchfork page the `?page=x` counter increments.  [Try it yourself](https://pitchfork.com/reviews/best/tracks/).  Just as we did with the API work, we can modify the URL to get different sets of songs from Pitchfork.\n",
    "\n",
    "Write a script which scrolls through 10 pages of Pitchfork's music reccomendations and collects all the songs you find into a single `df_pitch` DataFrame.  Be sure to use the functions you've created above.\n",
    "\n",
    "Validation: We found 56 songs running this on Feb 22."
   ]
  },
  {
   "cell_type": "raw",
   "metadata": {},
   "source": [
    "REVISIONS:\n",
    "\n",
    "I think its fine, good job"
   ]
  },
  {
   "cell_type": "code",
   "execution_count": 154,
   "metadata": {},
   "outputs": [],
   "source": [
    "def crawl_scrolling_page(pages):\n",
    "    '''\n",
    "    for pitchfork scrolling from html of song lists to pandas \n",
    "    args: num of scrolings pages to scrape\n",
    "    returns: a single df for song lists\n",
    "    '''\n",
    "    \n",
    "    \n",
    "    page_nums = [x for x in range(pages)]\n",
    "    \n",
    "    df_pitch = pd.DataFrame()\n",
    "    \n",
    "    # iterate through get url process specified times\n",
    "    for i in range(len(page_nums)):\n",
    "        \n",
    "        page_num = page_nums[i]\n",
    "        \n",
    "        # change page location for each iteration\n",
    "        url = f'https://pitchfork.com/reviews/best/tracks/?page={page_num}'\n",
    "        \n",
    "        page_html = get_url(url)\n",
    "        df_pitch = df_pitch.append(clean_pitchfork(page_html))\n",
    "        \n",
    "        \n",
    "    return df_pitch\n",
    "    # output into one dataframe"
   ]
  },
  {
   "cell_type": "code",
   "execution_count": 155,
   "metadata": {},
   "outputs": [
    {
     "name": "stdout",
     "output_type": "stream",
     "text": [
      "(56, 2)\n"
     ]
    },
    {
     "data": {
      "text/html": [
       "<div>\n",
       "<style scoped>\n",
       "    .dataframe tbody tr th:only-of-type {\n",
       "        vertical-align: middle;\n",
       "    }\n",
       "\n",
       "    .dataframe tbody tr th {\n",
       "        vertical-align: top;\n",
       "    }\n",
       "\n",
       "    .dataframe thead th {\n",
       "        text-align: right;\n",
       "    }\n",
       "</style>\n",
       "<table border=\"1\" class=\"dataframe\">\n",
       "  <thead>\n",
       "    <tr style=\"text-align: right;\">\n",
       "      <th></th>\n",
       "      <th>name</th>\n",
       "      <th>artist</th>\n",
       "    </tr>\n",
       "  </thead>\n",
       "  <tbody>\n",
       "    <tr>\n",
       "      <th>0</th>\n",
       "      <td>[“Back to the Radio”]</td>\n",
       "      <td>[[by: ], Jayson Greene]</td>\n",
       "    </tr>\n",
       "    <tr>\n",
       "      <th>1</th>\n",
       "      <td>[“Billions”]</td>\n",
       "      <td>[[by: ], Gio Santiago]</td>\n",
       "    </tr>\n",
       "    <tr>\n",
       "      <th>2</th>\n",
       "      <td>[“Bites on My Neck”]</td>\n",
       "      <td>[[by: ], Marc Hogan]</td>\n",
       "    </tr>\n",
       "    <tr>\n",
       "      <th>3</th>\n",
       "      <td>[“home”]</td>\n",
       "      <td>[[by: ], Philip Sherburne]</td>\n",
       "    </tr>\n",
       "    <tr>\n",
       "      <th>4</th>\n",
       "      <td>[“Midnight Sun”]</td>\n",
       "      <td>[[by: ], Jayson Greene]</td>\n",
       "    </tr>\n",
       "  </tbody>\n",
       "</table>\n",
       "</div>"
      ],
      "text/plain": [
       "                    name                      artist\n",
       "0  [“Back to the Radio”]     [[by: ], Jayson Greene]\n",
       "1           [“Billions”]      [[by: ], Gio Santiago]\n",
       "2   [“Bites on My Neck”]        [[by: ], Marc Hogan]\n",
       "3               [“home”]  [[by: ], Philip Sherburne]\n",
       "4       [“Midnight Sun”]     [[by: ], Jayson Greene]"
      ]
     },
     "execution_count": 155,
     "metadata": {},
     "output_type": "execute_result"
    }
   ],
   "source": [
    "# call function for ten pages\n",
    "##this is consistent with the 56 items on the validation\n",
    "ten_song_pages = crawl_scrolling_page(10)\n",
    "print(ten_song_pages.shape)\n",
    "ten_song_pages.head()"
   ]
  },
  {
   "cell_type": "markdown",
   "metadata": {},
   "source": [
    "### Part 5 (28 points)\n",
    "\n",
    "<img src=\"https://i.ibb.co/wht5NB0/Screenshot-from-2022-02-23-05-14-26.png\" alt=\"Drawing\" style=\"width: 600px;\"/>\n",
    "\n",
    "Write a function, `clean_quote()` which scrapes all the quotes from https://www.brainyquote.com/topics/websites-quotes:\n",
    "\n",
    "```python\n",
    "url = 'https://www.brainyquote.com/topics/websites-quotes'\n",
    "html = get_url(url)\n",
    "df_quote = clean_quote(html)\n",
    "df_quote.head()\n",
    "```\n",
    "\n",
    "gives:\n",
    "\n",
    "|   |          author |                                              text |\n",
    "|--:|----------------:|--------------------------------------------------:|\n",
    "| 0 |  Shreya Ghoshal | I'm not a gadget freak, so to say. I own an iP... |\n",
    "| 1 | Anthony Carmona | Social media websites are no longer performing... |\n",
    "| 2 |    M. J. Hyland | As is the case for many people with multiple s... |\n",
    "| 3 |     Brie Larson | There are so many opportunities to learn thing... |\n",
    "| 4 |      Ben Barnes |        There are loads of websites devoted to me. |\n",
    "\n",
    "**Extra Credit (up to +3 points)**: Navigate to each quote's own webpage and you'll find more information:\n",
    "\n",
    "<img src=\"https://i.ibb.co/ZKQS1ks/Screenshot-from-2022-02-23-05-14-37.png\" alt=\"Drawing\" style=\"width: 600px;\"/>\n",
    "\n",
    "Store the tags associated with each quote too.  For example, Bill Gate's quote above has tags: `'truth'`, `'government'`, `'internet'`, `'never'` and '`hard'`.  Think carefully about how you store the tags so that one may easily understand how many times each tag (e.g. `'internet'`) appears in your dataframe with simple pandas manipulations (hint: look tags are stored for boardgames in `Out [3]` of the `ipynb` for the [board game example project](https://course.ccs.neu.edu/ds3000/proj_example.html)).\n"
   ]
  },
  {
   "cell_type": "raw",
   "metadata": {},
   "source": [
    "REVISIONS:\n",
    "    \n",
    "\n",
    "iterate through grid-item class for quote info, also skip ands and create dict based on a text for author and quote:\n",
    "\n",
    " for quote in soup.find_all('div', class_='grid-item'):\n",
    " \n",
    "     if 'm-ad-brick' in quote.attrs['class']:\n",
    "                # ad, skip this one\n",
    "                continue\n",
    "\n",
    "            # get author and text\n",
    "            a_list = quote.find_all('a')\n",
    "            author = a_list[1].text\n",
    "            text = a_list[0].text.strip()\n",
    "\n",
    "            quote_dict = {'author': author,\n",
    "                          'text': text}\n",
    "                          \n",
    "                          \n",
    "find tag class using kw-box with tag info and split by line breakt then fill NaN valus with zero for remaining quotes:\n",
    "\n",
    "\n",
    "    # add quote to dataframe\n",
    "        df_quote = df_quote.append(quote_dict, ignore_index=True)\n",
    "\n",
    "  if collect_tags:\n",
    "       # ex credit: all NaNs are where tag wasn't observed, map them to 0\n",
    "        df_quote = df_quote.fillna(0)\n",
    "        \n",
    "  return df_quote"
   ]
  },
  {
   "cell_type": "code",
   "execution_count": 156,
   "metadata": {},
   "outputs": [],
   "source": [
    "def clean_quote(html_text):\n",
    "    '''\n",
    "    scrapes quotes and authors from url\n",
    "    args: str formatted html text\n",
    "    returns: df of author and quote text\n",
    "    '''\n",
    "    # build soup object from text\n",
    "    soup = BeautifulSoup(html_text)\n",
    "    \n",
    "    \n",
    "    quote_df = pd.DataFrame()\n",
    "    \n",
    "    #for quote in soup.find_all(class_='bq-aut qa_623749 oncl_a'):\n",
    "    authors = soup.find_all(class_='bq-aut qa_623749 oncl_a')\n",
    "        \n",
    "        #quote_df['text'] = quote.text\n",
    "    quote_df['text'] = soup.text\n",
    "    quote_df['author'] = authors\n",
    "\n",
    "    return quote_df"
   ]
  },
  {
   "cell_type": "code",
   "execution_count": 157,
   "metadata": {},
   "outputs": [
    {
     "data": {
      "text/html": [
       "<div>\n",
       "<style scoped>\n",
       "    .dataframe tbody tr th:only-of-type {\n",
       "        vertical-align: middle;\n",
       "    }\n",
       "\n",
       "    .dataframe tbody tr th {\n",
       "        vertical-align: top;\n",
       "    }\n",
       "\n",
       "    .dataframe thead th {\n",
       "        text-align: right;\n",
       "    }\n",
       "</style>\n",
       "<table border=\"1\" class=\"dataframe\">\n",
       "  <thead>\n",
       "    <tr style=\"text-align: right;\">\n",
       "      <th></th>\n",
       "      <th>text</th>\n",
       "      <th>author</th>\n",
       "    </tr>\n",
       "  </thead>\n",
       "  <tbody>\n",
       "    <tr>\n",
       "      <th>0</th>\n",
       "      <td>NaN</td>\n",
       "      <td>[Shreya Ghoshal]</td>\n",
       "    </tr>\n",
       "  </tbody>\n",
       "</table>\n",
       "</div>"
      ],
      "text/plain": [
       "  text            author\n",
       "0  NaN  [Shreya Ghoshal]"
      ]
     },
     "execution_count": 157,
     "metadata": {},
     "output_type": "execute_result"
    }
   ],
   "source": [
    "url = 'https://www.brainyquote.com/topics/websites-quotes'\n",
    "html = get_url(url)\n",
    "df_quote = clean_quote(html)\n",
    "df_quote\n",
    "#df_quote.head()"
   ]
  },
  {
   "cell_type": "code",
   "execution_count": null,
   "metadata": {},
   "outputs": [],
   "source": []
  }
 ],
 "metadata": {
  "kernelspec": {
   "display_name": "Python 3",
   "language": "python",
   "name": "python3"
  },
  "language_info": {
   "codemirror_mode": {
    "name": "ipython",
    "version": 3
   },
   "file_extension": ".py",
   "mimetype": "text/x-python",
   "name": "python",
   "nbconvert_exporter": "python",
   "pygments_lexer": "ipython3",
   "version": "3.8.8"
  }
 },
 "nbformat": 4,
 "nbformat_minor": 4
}
