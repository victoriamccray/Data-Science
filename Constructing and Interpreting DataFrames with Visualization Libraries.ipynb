{
 "cells": [
  {
   "cell_type": "markdown",
   "id": "c9bfd030",
   "metadata": {},
   "source": [
    "# Constructing and Interpreting DataFrames with Visualization Libraries"
   ]
  },
  {
   "cell_type": "markdown",
   "id": "36569e39",
   "metadata": {},
   "source": [
    "# Part 1"
   ]
  },
  {
   "cell_type": "code",
   "execution_count": 1,
   "id": "79618bb7",
   "metadata": {},
   "outputs": [],
   "source": [
    "import numpy as np\n",
    "import pandas as pd\n",
    "import matplotlib.pyplot as plt\n",
    "import seaborn as sns"
   ]
  },
  {
   "cell_type": "code",
   "execution_count": 2,
   "id": "10f3faf7",
   "metadata": {},
   "outputs": [
    {
     "data": {
      "text/plain": [
       "[0, 1, 2, 3, 4, 5, 6, 7, 8, 9, 10]"
      ]
     },
     "execution_count": 2,
     "metadata": {},
     "output_type": "execute_result"
    }
   ],
   "source": [
    "# list of values range 0-10\n",
    "x_vals = [x for x in range(11)]\n",
    "x_vals\n",
    "\n"
   ]
  },
  {
   "cell_type": "code",
   "execution_count": 3,
   "id": "b21b7bdf",
   "metadata": {},
   "outputs": [
    {
     "name": "stdout",
     "output_type": "stream",
     "text": [
      "[3, 2, 1, 0, 1, 2, 2, 1, 0, 1, 2]\n"
     ]
    }
   ],
   "source": [
    "\n",
    "\n",
    "sin_list = []\n",
    "pol_list = []\n",
    "abs_list = []\n",
    "\n",
    "# calculates value of each f(x) based on sinusoid, polynomial, or absolute value formula\n",
    "# then stores values in a list\n",
    "for x in range(len(x_vals)):\n",
    "    \n",
    "    calc_sin = 3 * np.sin((2/3)*x)\n",
    "    calc_pol = ((x-3)*(x-2)*(x-8))/ 10\n",
    "    calc_abs = min(abs(x - 3), abs(x - 8))\n",
    "    \n",
    "    sin_list.append(calc_sin)\n",
    "    pol_list.append(calc_pol)\n",
    "    abs_list.append(calc_abs)\n",
    "    \n",
    "print(abs_list)"
   ]
  },
  {
   "cell_type": "code",
   "execution_count": 4,
   "id": "d1cc6a71",
   "metadata": {},
   "outputs": [
    {
     "data": {
      "text/plain": [
       "Text(0, 0.5, 'f(x)')"
      ]
     },
     "execution_count": 4,
     "metadata": {},
     "output_type": "execute_result"
    },
    {
     "data": {
      "image/png": "[encoded data removed]",
      "text/plain": [
       "<Figure size 432x288 with 1 Axes>"
      ]
     },
     "metadata": {},
     "output_type": "display_data"
    }
   ],
   "source": [
    "## Sin, Polynomial, Absolute Value Line Plot\n",
    "sns.set()\n",
    "#plt.ylim(0,10)\n",
    "\n",
    "grid = np.linspace(0,100,10)\n",
    "\n",
    "plt.plot(x_vals, sin_list, color='Red', linewidth=4, linestyle='dotted', label='sinusoid')\n",
    "plt.plot(x_vals, pol_list, color='Blue', linewidth=2, linestyle='solid', label='polynomial')\n",
    "plt.plot(x_vals, abs_list, color='Green', linewidth=3,linestyle='dashed', label='abs value')\n",
    "\n",
    "\n",
    "plt.legend(loc='upper left')\n",
    "plt.xlabel('x')\n",
    "plt.ylabel('f(x)')"
   ]
  },
  {
   "cell_type": "code",
   "execution_count": null,
   "id": "13f2fb3f",
   "metadata": {},
   "outputs": [],
   "source": []
  },
  {
   "cell_type": "code",
   "execution_count": null,
   "id": "bd8a62a5",
   "metadata": {},
   "outputs": [],
   "source": []
  },
  {
   "cell_type": "markdown",
   "id": "5424a962",
   "metadata": {},
   "source": [
    "# Part 2"
   ]
  },
  {
   "cell_type": "markdown",
   "id": "1afb8c39",
   "metadata": {},
   "source": [
    "## Part 2.1 Construct a pandas dataframe to represent bike data"
   ]
  },
  {
   "cell_type": "code",
   "execution_count": 5,
   "id": "ade7b301",
   "metadata": {},
   "outputs": [],
   "source": [
    "# stores data in list by column name\n",
    "\n",
    "bike_id = ['037', '379', '398', '37B', 'BRG']\n",
    "\n",
    "rider_id = [3,1,7,3,7]\n",
    "\n",
    "make = ['bianchi', 'duratec', 'trek', 'trek',  'canondale']\n",
    "\n",
    "color = ['Celeste', '<no paint>', 'Red', 'Black', 'Black']\n",
    "\n",
    "bike_type = ['Road', 'Cyclocross', 'Road', 'Mountain', 'Mountain']\n",
    "\n",
    "weight = [8200, 9500, 9000, 13607, 15005]\n",
    "\n",
    "time_trial_1 = [450, 510, 432, 561, 524]\n",
    "time_trial_2 = [205, 222, 211, 301, 299]"
   ]
  },
  {
   "cell_type": "code",
   "execution_count": 6,
   "id": "5af1ea95",
   "metadata": {
    "scrolled": false
   },
   "outputs": [
    {
     "data": {
      "text/html": [
       "<div>\n",
       "<style scoped>\n",
       "    .dataframe tbody tr th:only-of-type {\n",
       "        vertical-align: middle;\n",
       "    }\n",
       "\n",
       "    .dataframe tbody tr th {\n",
       "        vertical-align: top;\n",
       "    }\n",
       "\n",
       "    .dataframe thead th {\n",
       "        text-align: right;\n",
       "    }\n",
       "</style>\n",
       "<table border=\"1\" class=\"dataframe\">\n",
       "  <thead>\n",
       "    <tr style=\"text-align: right;\">\n",
       "      <th></th>\n",
       "      <th>Bike ID</th>\n",
       "      <th>Rider ID</th>\n",
       "      <th>Make</th>\n",
       "      <th>Color</th>\n",
       "      <th>Bike Type</th>\n",
       "      <th>Weight (g)</th>\n",
       "      <th>Time Trial 1 (s)</th>\n",
       "      <th>Time Trial 2 (s)</th>\n",
       "    </tr>\n",
       "  </thead>\n",
       "  <tbody>\n",
       "    <tr>\n",
       "      <th>0</th>\n",
       "      <td>037</td>\n",
       "      <td>3</td>\n",
       "      <td>bianchi</td>\n",
       "      <td>Celeste</td>\n",
       "      <td>Road</td>\n",
       "      <td>8200</td>\n",
       "      <td>450</td>\n",
       "      <td>205</td>\n",
       "    </tr>\n",
       "    <tr>\n",
       "      <th>1</th>\n",
       "      <td>379</td>\n",
       "      <td>1</td>\n",
       "      <td>duratec</td>\n",
       "      <td>&lt;no paint&gt;</td>\n",
       "      <td>Cyclocross</td>\n",
       "      <td>9500</td>\n",
       "      <td>510</td>\n",
       "      <td>222</td>\n",
       "    </tr>\n",
       "    <tr>\n",
       "      <th>2</th>\n",
       "      <td>398</td>\n",
       "      <td>7</td>\n",
       "      <td>trek</td>\n",
       "      <td>Red</td>\n",
       "      <td>Road</td>\n",
       "      <td>9000</td>\n",
       "      <td>432</td>\n",
       "      <td>211</td>\n",
       "    </tr>\n",
       "    <tr>\n",
       "      <th>3</th>\n",
       "      <td>37B</td>\n",
       "      <td>3</td>\n",
       "      <td>trek</td>\n",
       "      <td>Black</td>\n",
       "      <td>Mountain</td>\n",
       "      <td>13607</td>\n",
       "      <td>561</td>\n",
       "      <td>301</td>\n",
       "    </tr>\n",
       "    <tr>\n",
       "      <th>4</th>\n",
       "      <td>BRG</td>\n",
       "      <td>7</td>\n",
       "      <td>canondale</td>\n",
       "      <td>Black</td>\n",
       "      <td>Mountain</td>\n",
       "      <td>15005</td>\n",
       "      <td>524</td>\n",
       "      <td>299</td>\n",
       "    </tr>\n",
       "  </tbody>\n",
       "</table>\n",
       "</div>"
      ],
      "text/plain": [
       "  Bike ID  Rider ID       Make       Color   Bike Type  Weight (g)  \\\n",
       "0     037         3    bianchi     Celeste        Road        8200   \n",
       "1     379         1    duratec  <no paint>  Cyclocross        9500   \n",
       "2     398         7       trek         Red        Road        9000   \n",
       "3     37B         3       trek       Black    Mountain       13607   \n",
       "4     BRG         7  canondale       Black    Mountain       15005   \n",
       "\n",
       "   Time Trial 1 (s)  Time Trial 2 (s)  \n",
       "0               450               205  \n",
       "1               510               222  \n",
       "2               432               211  \n",
       "3               561               301  \n",
       "4               524               299  "
      ]
     },
     "execution_count": 6,
     "metadata": {},
     "output_type": "execute_result"
    }
   ],
   "source": [
    "# initializes dataframe, assignns values of lists by column\n",
    "df = pd.DataFrame()\n",
    "\n",
    "df['Bike ID'] = bike_id\n",
    "df['Rider ID'] = rider_id\n",
    "df['Make'] = make\n",
    "df['Color'] = color\n",
    "df['Bike Type'] = bike_type\n",
    "df['Weight (g)'] = weight\n",
    "df['Time Trial 1 (s)'] = time_trial_1\n",
    "df['Time Trial 2 (s)'] = time_trial_2\n",
    "\n",
    "\n",
    "\n",
    "\n",
    "df.set_index(['Bike ID'])\n",
    "df.to_csv('bike-data.csv')\n",
    "\n",
    "df"
   ]
  },
  {
   "cell_type": "markdown",
   "id": "cdaa43af",
   "metadata": {},
   "source": [
    "## Part 2.2 Manipulate dataframe to answer questions"
   ]
  },
  {
   "cell_type": "markdown",
   "id": "f020853f",
   "metadata": {},
   "source": [
    "### The Bike ID associated with the greatest weight in the data is 'BRG'."
   ]
  },
  {
   "cell_type": "code",
   "execution_count": 7,
   "id": "8609c88f",
   "metadata": {},
   "outputs": [
    {
     "data": {
      "text/plain": [
       "4    BRG\n",
       "Name: Bike ID, dtype: object"
      ]
     },
     "execution_count": 7,
     "metadata": {},
     "output_type": "execute_result"
    }
   ],
   "source": [
    "# finds greatest value for weight in the dataset\n",
    "max_weight = df['Weight (g)'].max()\n",
    "\n",
    "# isolates all rows where value of weight is equal to max weight\n",
    "max_weight_row = df.loc[df['Weight (g)'] == max_weight]\n",
    "\n",
    "# find value of bike id for row\n",
    "max_weight_bikeid = max_weight_row['Bike ID']\n",
    "max_weight_bikeid"
   ]
  },
  {
   "cell_type": "markdown",
   "id": "4b04ad72",
   "metadata": {},
   "source": [
    "### The Bike ID associated with fastest average time speed is '398'"
   ]
  },
  {
   "cell_type": "code",
   "execution_count": 8,
   "id": "b60150fe",
   "metadata": {},
   "outputs": [
    {
     "data": {
      "text/plain": [
       "2    398\n",
       "Name: Bike ID, dtype: object"
      ]
     },
     "execution_count": 8,
     "metadata": {},
     "output_type": "execute_result"
    }
   ],
   "source": [
    "# calculates the mean of time trial 1 and time trial 2 for each row\n",
    "# finds the minimum time, as this represents the fastest\n",
    "avg_time_trials = (df['Time Trial 1 (s)'] + df['Time Trial 2 (s)']) / 2\n",
    "\n",
    "# creates a new column for calculated mean time trials\n",
    "# finds minimum of those values\n",
    "df['Avg Time Trials'] = avg_time_trials\n",
    "fastest_avg_time_trials = avg_time_trials.min()\n",
    "\n",
    "\n",
    "# uses boolean operation to isolate bike id associated with min avg time value\n",
    "fastest_bike = df.loc[df['Avg Time Trials'] == fastest_avg_time_trials]\n",
    "fastest_bikeid = fastest_bike['Bike ID']\n",
    "\n",
    "\n",
    "fastest_bikeid"
   ]
  },
  {
   "cell_type": "markdown",
   "id": "de9505bb",
   "metadata": {},
   "source": [
    "### The average weight of each bike type is 9500 for 'Cyclocross', 14306 for 'Mountain', and 8600 for 'Road' bikes."
   ]
  },
  {
   "cell_type": "code",
   "execution_count": 9,
   "id": "634fb011",
   "metadata": {},
   "outputs": [
    {
     "data": {
      "text/plain": [
       "Bike Type\n",
       "Cyclocross     9500.0\n",
       "Mountain      14306.0\n",
       "Road           8600.0\n",
       "Name: Weight (g), dtype: float64"
      ]
     },
     "execution_count": 9,
     "metadata": {},
     "output_type": "execute_result"
    }
   ],
   "source": [
    "# what is the avg weight of each bike by bike type\n",
    "# uses group by to find the mean weight of each row by specified by bike type\n",
    "bike_groups = []\n",
    "bike_group_mean = df.groupby('Bike Type').mean()\n",
    "bike_group_weights = bike_group_mean['Weight (g)']\n",
    "bike_group_weights\n"
   ]
  },
  {
   "cell_type": "markdown",
   "id": "bbbafd79",
   "metadata": {},
   "source": [
    "# Part 3"
   ]
  },
  {
   "cell_type": "markdown",
   "id": "7a3c59de",
   "metadata": {},
   "source": [
    "## Part 3.1"
   ]
  },
  {
   "cell_type": "code",
   "execution_count": 10,
   "id": "123b6f83",
   "metadata": {
    "scrolled": true
   },
   "outputs": [
    {
     "data": {
      "text/plain": [
       "0        87\n",
       "1        87\n",
       "2        94\n",
       "3        83\n",
       "4       238\n",
       "       ... \n",
       "6078     92\n",
       "6079    124\n",
       "6080     84\n",
       "6081    112\n",
       "6082    116\n",
       "Name: duration, Length: 6083, dtype: int64"
      ]
     },
     "execution_count": 10,
     "metadata": {},
     "output_type": "execute_result"
    }
   ],
   "source": [
    "imdb_df = pd.read_csv('IMDb_movies_clean.csv')\n",
    "genre_df = pd.DataFrame(imdb_df.groupby('genre'))\n",
    "\n",
    "imdb_df['duration']"
   ]
  },
  {
   "cell_type": "code",
   "execution_count": 11,
   "id": "6fc6ab1b",
   "metadata": {},
   "outputs": [
    {
     "data": {
      "image/png": "[encoded data removed]",
      "text/plain": [
       "<Figure size 432x288 with 3 Axes>"
      ]
     },
     "metadata": {},
     "output_type": "display_data"
    }
   ],
   "source": [
    "genres = ['Drama', 'Comedy', 'Horror']\n",
    "\n",
    "for gen_idx, genre in enumerate(genres):\n",
    "    \n",
    "    # df of only movies whose genre is Drama, Comedy or Horror\n",
    "    drama_movies = imdb_df.loc[imdb_df['genre'] == 'Drama']\n",
    "    comedy_movies = imdb_df.loc[imdb_df['genre'] == 'Comedy']\n",
    "    horror_movies = imdb_df.loc[imdb_df['genre'] == 'Horror']\n",
    "    \n",
    "    \n",
    "    gen_bool_movies = imdb_df.loc[imdb_df['genre'] == genre]\n",
    "    plt.subplot(3,1, gen_idx + 1)\n",
    "    \n",
    "    plt.hist(gen_bool_movies['duration'], bins=30)\n",
    "    plt.gca().title.set_text(genres[gen_idx])\n",
    "    plt.ylim(0, 30)\n",
    "    "
   ]
  },
  {
   "cell_type": "code",
   "execution_count": null,
   "id": "63f11aba",
   "metadata": {},
   "outputs": [],
   "source": []
  },
  {
   "cell_type": "markdown",
   "id": "9b5e597e",
   "metadata": {},
   "source": [
    "## Part 3.2 Scatter Plot"
   ]
  },
  {
   "cell_type": "code",
   "execution_count": 12,
   "id": "6553cd2c",
   "metadata": {},
   "outputs": [
    {
     "data": {
      "text/plain": [
       "<matplotlib.legend.Legend at 0x7ff66df45d00>"
      ]
     },
     "execution_count": 12,
     "metadata": {},
     "output_type": "execute_result"
    },
    {
     "data": {
      "image/png": "[encoded data removed]",
      "text/plain": [
       "<Figure size 432x288 with 1 Axes>"
      ]
     },
     "metadata": {},
     "output_type": "display_data"
    }
   ],
   "source": [
    "\n",
    "\n",
    "# stores budget and avg_vote values in lists\n",
    "dram_budget = list(drama_movies['budget'])\n",
    "com_budget = list(comedy_movies['budget'])\n",
    "\n",
    "dram_vote = list(drama_movies['avg_vote'])\n",
    "com_vote = list(comedy_movies['avg_vote'])\n",
    "\n",
    "plt.scatter(dram_budget, dram_vote, label='drama', alpha=0.4)\n",
    "plt.scatter(com_budget, com_vote, label='comedy', alpha=0.4)\n",
    "plt.xscale('log')\n",
    "plt.xlabel('Budget')\n",
    "plt.ylabel('Avg Vote')\n",
    "plt.title('budget and reception across genres')\n",
    "plt.legend()"
   ]
  },
  {
   "cell_type": "markdown",
   "id": "98955107",
   "metadata": {},
   "source": [
    "There doesn't seem to be an overt relationship between genre and avg vote. Drama films may have slightly higher avg vote because Comedy films seem to span as low as 2-4, while Drama films seem less likely to drop below 3-5."
   ]
  },
  {
   "cell_type": "markdown",
   "id": "e9907cf5",
   "metadata": {},
   "source": [
    "From the scatter plot, Comedy films seem to have a larger budget in general. Drama films show some low budget variance that is less prevalent for Comedy films."
   ]
  },
  {
   "cell_type": "markdown",
   "id": "f6df1d93",
   "metadata": {},
   "source": [
    "Taken with the case of Comedy films, larger budgets do not always result in higher rates. In this scatter plot, the lowest points of the plane occur on the high end of budgets. Additionally, for Comedy films, increasing the film's budget does not increase the likelihood of a higher rating based on the scatter plot. Comedy films on the high end for budgets are not necessarily performing better than films with low budgets in the same genre. However, it is also not clear that increasing movie budget will decrease ratings from the plot."
   ]
  },
  {
   "cell_type": "markdown",
   "id": "d80871a3",
   "metadata": {},
   "source": [
    "## Part 3.4 Line plot "
   ]
  },
  {
   "cell_type": "code",
   "execution_count": 13,
   "id": "5363f40d",
   "metadata": {
    "scrolled": true
   },
   "outputs": [
    {
     "data": {
      "image/png": "[encoded data removed]",
      "text/plain": [
       "<Figure size 432x288 with 2 Axes>"
      ]
     },
     "metadata": {},
     "output_type": "display_data"
    }
   ],
   "source": [
    "features = ['budget','avg_vote']\n",
    "\n",
    "for f_idx, feature in enumerate(features):\n",
    "    \n",
    "    years = list(imdb_df['year'].unique())\n",
    "\n",
    "    # takes the average of each column and stores in new df\n",
    "    mean_years_df = imdb_df.groupby('year').mean()\n",
    "    mean_vote = mean_years_df['avg_vote']\n",
    "    mean_budget = mean_years_df['budget']\n",
    "\n",
    "    \n",
    "    plt.subplot(1,2, f_idx + 1)\n",
    "    plt.plot(years, mean_years_df[feature])\n",
    "    plt.xlabel('year')\n",
    "    plt.ylabel(feature)\n",
    "    plt.suptitle('Are movies getting worse and more expensive over time?')\n",
    "    \n",
    "    ### my plots are slightly noisier than the example, unsure why, but the trend of increase\n",
    "    ### in budget and decrease in ratings remains"
   ]
  },
  {
   "cell_type": "markdown",
   "id": "6004760c",
   "metadata": {},
   "source": [
    "## Part 3.5"
   ]
  },
  {
   "cell_type": "markdown",
   "id": "e9b6c1e1",
   "metadata": {},
   "source": [
    "The modern budget seems to be four times as much as the average budget in 1980."
   ]
  },
  {
   "cell_type": "markdown",
   "id": "87c4c108",
   "metadata": {},
   "source": [
    "Two alternative explanations for the decrease in ratings may include a lack of reporting for positive reviews more recently. Moreover, another explanation could be that there is a lack of reporting negative reviews earlier in the 20th century."
   ]
  }
 ],
 "metadata": {
  "kernelspec": {
   "display_name": "Python 3 (ipykernel)",
   "language": "python",
   "name": "python3"
  },
  "language_info": {
   "codemirror_mode": {
    "name": "ipython",
    "version": 3
   },
   "file_extension": ".py",
   "mimetype": "text/x-python",
   "name": "python",
   "nbconvert_exporter": "python",
   "pygments_lexer": "ipython3",
   "version": "3.10.9"
  }
 },
 "nbformat": 4,
 "nbformat_minor": 5
}
